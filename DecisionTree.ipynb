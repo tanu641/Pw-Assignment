{
  "nbformat": 4,
  "nbformat_minor": 0,
  "metadata": {
    "colab": {
      "provenance": []
    },
    "kernelspec": {
      "name": "python3",
      "display_name": "Python 3"
    },
    "language_info": {
      "name": "python"
    }
  },
  "cells": [
    {
      "cell_type": "markdown",
      "source": [
        "##**Decision Tree**"
      ],
      "metadata": {
        "id": "R28bbUAemBY2"
      }
    },
    {
      "cell_type": "markdown",
      "source": [
        "##**Assignment Question**"
      ],
      "metadata": {
        "id": "hiLsbI1lmLuu"
      }
    },
    {
      "cell_type": "markdown",
      "source": [
        "###**Theoretical:**"
      ],
      "metadata": {
        "id": "7IWDi7Mul7BQ"
      }
    },
    {
      "cell_type": "markdown",
      "source": [
        "**1.What is a Decision Tree, and how does it work?**"
      ],
      "metadata": {
        "id": "KYz2brN-mQ3e"
      }
    },
    {
      "cell_type": "markdown",
      "source": [
        "Ans:A **Decision Tree** is a supervised machine learning algorithm used for classification and regression tasks. It is a tree-like model where each internal node represents a decision based on a feature, each branch represents an outcome of that decision, and each leaf node represents a final prediction.\n",
        "\n",
        "### **How a Decision Tree Works**\n",
        "1. **Splitting**: The dataset is split into subsets based on the feature that provides the best separation (measured using criteria like Gini impurity or entropy for classification, and variance reduction for regression).\n",
        "2. **Tree Growth**: The splitting process continues recursively, creating deeper branches, until a stopping condition is met (e.g., a maximum depth is reached or no significant gain is achieved).\n",
        "3. **Pruning (Optional)**: To prevent overfitting, unnecessary branches can be removed using techniques like cost complexity pruning or pre-pruning (setting a depth limit).\n",
        "4. **Prediction**: For a new input, the decision tree follows the path from the root node down to a leaf node, which contains the final predicted value or class.\n",
        "\n",
        "###**Features of Decision Trees**\n",
        "- **Easy to interpret** and visualize.\n",
        "- **Handles both numerical and categorical data**.\n",
        "- **Sensitive to overfitting**, especially if grown too deep.\n",
        "- **Performs well on structured/tabular data**.\n",
        "\n"
      ],
      "metadata": {
        "id": "UIN-gthgl6ZM"
      }
    },
    {
      "cell_type": "markdown",
      "source": [
        "**2.What are impurity measures in Decision Trees?**"
      ],
      "metadata": {
        "id": "rzzZs7iampGu"
      }
    },
    {
      "cell_type": "markdown",
      "source": [
        "Ans:Impurity measures in Decision Trees evaluate how mixed a node is:\n",
        "\n",
        "**Gini Impurity:** Measures the chance of misclassification. Formula: 1 - Σ(pᵢ²). Lower is better.\n",
        "\n",
        "**Entropy:** Measures disorder. Formula: -Σ(pᵢ * log₂ pᵢ). Lower is better.\n",
        "\n",
        "**Variance Reduction:** Used in regression trees to minimize variance after splitting.\n",
        "\n",
        "Both Gini and Entropy help find the best splits, with Gini being faster and Entropy being more sensitive to class distribution."
      ],
      "metadata": {
        "id": "sX4nOtZKmsXS"
      }
    },
    {
      "cell_type": "markdown",
      "source": [
        "**3.What is the mathematical formula for Gini Impurity?**"
      ],
      "metadata": {
        "id": "3oT97KddncW4"
      }
    },
    {
      "cell_type": "markdown",
      "source": [
        "Ans:The mathematical formula for **Gini Impurity** is:  \n",
        "\n",
        "**Gini = 1 - Σ (pᵢ²)**  \n",
        "\n",
        "Where:  \n",
        "- **pᵢ** is the proportion of samples belonging to class **i** in a node.  \n",
        "- **Σ (pᵢ²)** sums the squared probabilities of all classes in the node.  \n",
        "\n",
        "A lower Gini Impurity means a purer node. It ranges from **0 (pure node)** to **0.5 (maximum impurity for a balanced split between two classes).**"
      ],
      "metadata": {
        "id": "AMnphTBDnc7z"
      }
    },
    {
      "cell_type": "markdown",
      "source": [
        "**4.What is the mathematical formula for Entropy?**"
      ],
      "metadata": {
        "id": "7txam0cZnktJ"
      }
    },
    {
      "cell_type": "markdown",
      "source": [
        "Ans:The mathematical formula for **Entropy** is:  \n",
        "\n",
        "**Entropy = - Σ (pᵢ * log₂ pᵢ)**  \n",
        "\n",
        "Where:  \n",
        "- **pᵢ** is the proportion of samples belonging to class **i** in a node.  \n",
        "- **Σ (pᵢ * log₂ pᵢ)** sums over all possible classes in the node.  \n",
        "\n",
        "Entropy ranges from **0 (pure node)** to **log₂(k) (maximum impurity when classes are equally distributed among k classes).**"
      ],
      "metadata": {
        "id": "DTAcMfnJnppA"
      }
    },
    {
      "cell_type": "markdown",
      "source": [
        "**5.What is Information Gain, and how is it used in Decision Trees?**"
      ],
      "metadata": {
        "id": "DkwmRq7-nwNv"
      }
    },
    {
      "cell_type": "markdown",
      "source": [
        "Ans:**Information Gain (IG)** measures the reduction in entropy after splitting a dataset on a feature. It helps determine the best feature to split on in a **Decision Tree** by selecting the one that maximizes IG.  \n",
        "\n",
        "### **Mathematical Formula**  \n",
        "**IG = Entropy(Parent) - Σ (Weighted Entropy of Child Nodes)**  \n",
        "\n",
        "Where:  \n",
        "- **Entropy(Parent)** is the entropy before splitting.  \n",
        "- **Weighted Entropy of Child Nodes** is the sum of entropies of child nodes, weighted by the proportion of samples in each.  \n",
        "\n",
        "### **How It’s Used**  \n",
        "1. **Calculate Entropy** of the parent node.  \n",
        "2. **Split the dataset** based on a feature.  \n",
        "3. **Calculate Entropy** for child nodes.  \n",
        "4. **Compute Information Gain** for the split.  \n",
        "5. **Choose the feature with the highest IG** for splitting.  \n",
        "\n",
        "Higher **IG** means a feature provides better separation, leading to a more effective Decision Tree."
      ],
      "metadata": {
        "id": "xmWPz8Vtn0TX"
      }
    },
    {
      "cell_type": "markdown",
      "source": [
        "**6.What is the difference between Gini Impurity and Entropy?**"
      ],
      "metadata": {
        "id": "rZWEE9Egn9D2"
      }
    },
    {
      "cell_type": "markdown",
      "source": [
        "Ans:Here’s the difference between **Gini Impurity** and **Entropy** in point form:  \n",
        "\n",
        "1. **Formula**  \n",
        "   - **Gini Impurity**: 1 - Σ (pᵢ²)  \n",
        "   - **Entropy**: -Σ (pᵢ * log₂ pᵢ)  \n",
        "\n",
        "2. **Meaning**  \n",
        "   - **Gini Impurity** measures the probability of misclassification.  \n",
        "   - **Entropy** measures the level of disorder or uncertainty in a node.  \n",
        "\n",
        "3. **Range**  \n",
        "   - **Gini Impurity**: 0 (pure) to 0.5 (for two equally split classes).  \n",
        "   - **Entropy**: 0 (pure) to log₂(k) (maximum impurity for k classes).  \n",
        "\n",
        "4. **Computational Complexity**  \n",
        "   - **Gini is faster** because it does not involve logarithms.  \n",
        "   - **Entropy is slower** due to logarithm calculations.  \n",
        "\n",
        "5. **Usage in Decision Trees**  \n",
        "   - **Gini Impurity** is used in **CART (Classification and Regression Trees)**.  \n",
        "   - **Entropy** is used in **ID3 and C4.5 decision trees**.  \n",
        "\n",
        "6. **Splitting Impact**  \n",
        "   - **Gini Impurity** tends to **favor larger class proportions** slightly.  \n",
        "   - **Entropy** is **more sensitive to class distribution** and provides a more precise measure of impurity.  \n",
        "\n",
        "### **Conclusion**  \n",
        "Both work well for Decision Trees, but **Gini is computationally more efficient**, while **Entropy gives a more mathematically rigorous measure of uncertainty**."
      ],
      "metadata": {
        "id": "z9Uzoi6eoBO2"
      }
    },
    {
      "cell_type": "markdown",
      "source": [
        "**7.What is the mathematical explanation behind Decision Trees?**"
      ],
      "metadata": {
        "id": "qeVNAsjWooba"
      }
    },
    {
      "cell_type": "markdown",
      "source": [
        "Ans: **Mathematical Explanation of Decision Trees**  \n",
        "\n",
        "1. **Splitting Criterion**  \n",
        "   - Uses **Gini Impurity** (**1 - Σ pᵢ²**) or **Entropy** (**-Σ pᵢ log₂ pᵢ**) to measure impurity.  \n",
        "   - Regression trees use **Variance Reduction**.  \n",
        "\n",
        "2. **Information Gain (IG) for Classification**  \n",
        "   - **IG = Entropy(Parent) - Σ (Weighted Entropy(Children))**  \n",
        "   - Higher IG means a better feature for splitting.  \n",
        "\n",
        "3. **Gini Gain (Alternative to IG)**  \n",
        "   - **Gini Gain = Gini(Parent) - Σ (Weighted Gini(Children))**  \n",
        "\n",
        "4. **Decision Rule at Each Node**  \n",
        "   - If **X ≤ T**, go to the left child.  \n",
        "   - If **X > T**, go to the right child.  \n",
        "\n",
        "5. **Stopping Criteria**  \n",
        "   - Max tree depth reached.  \n",
        "   - Minimum samples per node met.  \n",
        "   - No further significant IG.  \n",
        "\n",
        "6. **Pruning (To Prevent Overfitting)**  \n",
        "   - **Pre-Pruning**: Stops splitting early.  \n",
        "   - **Post-Pruning**: Removes weak branches after tree creation.  \n",
        "\n",
        "This ensures an optimal, interpretable, and efficient Decision Tree."
      ],
      "metadata": {
        "id": "Jg-PaH6_otbH"
      }
    },
    {
      "cell_type": "markdown",
      "source": [
        "**8.What is Pre-Pruning in Decision Trees?**"
      ],
      "metadata": {
        "id": "17xSz-fBpH5Z"
      }
    },
    {
      "cell_type": "markdown",
      "source": [
        "Ans:**Pre-Pruning in Decision Trees**  \n",
        "\n",
        "**Pre-Pruning** (also called **Early Stopping**) is a technique used to stop the growth of a Decision Tree **before it becomes too complex**, preventing overfitting.  \n",
        "\n",
        "**How It Works:**  \n",
        "The tree stops splitting further if any of the following conditions are met:  \n",
        "1. **Maximum Depth** – The tree reaches a predefined depth limit.  \n",
        "2. **Minimum Samples per Node** – A node has fewer than a set threshold of samples.  \n",
        "3. **Minimum Information Gain** – The split does not improve Information Gain significantly.  \n",
        "4. **Maximum Number of Nodes** – Limits the total number of nodes in the tree.  \n",
        "\n",
        "**Advantages:**  \n",
        "1. Prevents overfitting by controlling tree complexity.  \n",
        "2. Reduces computation time.  \n",
        "3. Improves generalization on unseen data.  \n",
        "\n",
        "**Disadvantages:**  \n",
        "1. May stop too early and miss important patterns.  \n",
        "2. Needs careful tuning of stopping criteria.  \n"
      ],
      "metadata": {
        "id": "AbQ5NzuRpMkc"
      }
    },
    {
      "cell_type": "markdown",
      "source": [
        "**9.What is Post-Pruning in Decision Trees?**"
      ],
      "metadata": {
        "id": "In6QKyKLpmkW"
      }
    },
    {
      "cell_type": "markdown",
      "source": [
        "Ans: **Post-Pruning in Decision Trees**  \n",
        "\n",
        "**Post-Pruning** (also called **Pruning**) is a technique used to **reduce the size of a fully grown Decision Tree** to prevent overfitting.  \n",
        "\n",
        "**How It Works:**  \n",
        "1. The tree is first grown **fully** without constraints.  \n",
        "2. Weak branches (nodes that do not improve accuracy significantly) are **removed** based on a validation set.  \n",
        "3. The tree is simplified while keeping performance stable.  \n",
        "\n",
        "**Types of Post-Pruning:**  \n",
        "- **Cost Complexity Pruning (CCP)** – Removes nodes based on a complexity parameter.  \n",
        "- **Reduced Error Pruning** – Removes nodes if accuracy does not drop on validation data.  \n",
        "\n",
        "**Advantages:**  \n",
        "- Reduces overfitting.  \n",
        "- Improves generalization.  \n",
        "- Creates a simpler, more interpretable tree.  \n",
        "\n",
        "**Disadvantages:**  \n",
        "- Requires a validation set.  \n",
        "- Computationally expensive."
      ],
      "metadata": {
        "id": "1i-J6ndsp25k"
      }
    },
    {
      "cell_type": "markdown",
      "source": [
        "**10.What is the difference between Pre-Pruning and Post-Pruning?**"
      ],
      "metadata": {
        "id": "SNdblhUKp_XF"
      }
    },
    {
      "cell_type": "markdown",
      "source": [
        "Ans:**Difference Between Pre-Pruning and Post-Pruning**  \n",
        "\n",
        "1. **Definition**  \n",
        "   - **Pre-Pruning**: Stops tree growth early based on predefined conditions.  \n",
        "   - **Post-Pruning**: Grows the full tree first, then removes weak branches.  \n",
        "\n",
        "2. **When It Happens**  \n",
        "   - **Pre-Pruning**: Before the tree is fully grown.  \n",
        "   - **Post-Pruning**: After the tree is fully grown.  \n",
        "\n",
        "3. **Criteria for Stopping/Pruning**  \n",
        "   - **Pre-Pruning**: Max depth, min samples per node, min information gain.  \n",
        "   - **Post-Pruning**: Validation set accuracy, cost complexity pruning.  \n",
        "\n",
        "4. **Overfitting Control**  \n",
        "   - **Pre-Pruning**: Prevents overfitting by limiting growth.  \n",
        "   - **Post-Pruning**: Reduces overfitting by trimming the tree.  \n",
        "\n",
        "5. **Accuracy Impact**  \n",
        "   - **Pre-Pruning**: May stop too early and miss patterns.  \n",
        "   - **Post-Pruning**: More effective as it evaluates the entire tree first.  \n",
        "\n",
        "6. **Computation Time**  \n",
        "   - **Pre-Pruning**: Faster since it stops early.  \n",
        "   - **Post-Pruning**: Slower due to full tree construction and validation.  \n",
        "\n",
        "**Conclusion**  \n",
        "Pre-pruning is proactive but may underfit, while post-pruning is reactive and generally better at finding the optimal tree size."
      ],
      "metadata": {
        "id": "jniHyXm4qFaq"
      }
    },
    {
      "cell_type": "markdown",
      "source": [
        "**11.What is a Decision Tree Regressor?**"
      ],
      "metadata": {
        "id": "gEbKo3OXqVsM"
      }
    },
    {
      "cell_type": "markdown",
      "source": [
        "Ans:**Decision Tree Regressor**  \n",
        "\n",
        "- A Decision Tree Regressor is used for predicting **continuous numerical values** instead of categories.  \n",
        "- It splits data based on features and predicts the **average value** of observations in the final leaf nodes.  \n",
        "\n",
        "**Splitting Criterion**  \n",
        "- Uses **Variance Reduction** or **Mean Squared Error (MSE)** to determine the best split.  \n",
        "- **Variance Reduction = Var(Parent) - Σ (Weighted Var(Children))**  \n",
        "- **MSE = (1/n) Σ (yᵢ - ŷ)²**  \n",
        "\n",
        "**Working Process**  \n",
        "- The tree recursively splits the data until stopping criteria are met.  \n",
        "- The final output is the **mean value** of all data points in a leaf node.  \n",
        "\n",
        "**Advantages**  \n",
        "- Handles both linear and nonlinear relationships.  \n",
        "- No need for feature scaling.  \n",
        "- Works well with missing values.  \n",
        "\n",
        "**Disadvantages**  \n",
        "- Prone to overfitting (requires pruning).  \n",
        "- Sensitive to small data changes."
      ],
      "metadata": {
        "id": "CIcIfMZkqcTd"
      }
    },
    {
      "cell_type": "markdown",
      "source": [
        "**12.What are the advantages and disadvantages of Decision Trees?**"
      ],
      "metadata": {
        "id": "oPqdG4gTq3Vi"
      }
    },
    {
      "cell_type": "markdown",
      "source": [
        "Ans: **Advantages and Disadvantages of Decision Trees**  \n",
        "\n",
        "**Advantages**  \n",
        "- Simple to understand and interpret.  \n",
        "- Handles both numerical and categorical data.  \n",
        "- No need for feature scaling or normalization.  \n",
        "- Can capture nonlinear relationships.  \n",
        "- Works well with missing values.  \n",
        "- Requires little data preprocessing.  \n",
        "- Can be used for both classification and regression.  \n",
        "\n",
        "**Disadvantages**  \n",
        "- Prone to overfitting, especially with deep trees.  \n",
        "- Sensitive to small changes in data.  \n",
        "- Biased towards dominant classes in imbalanced datasets.  \n",
        "- Can be computationally expensive for large datasets.  \n",
        "- Splits can become unstable if data has small variations.  \n",
        "- Less effective on complex datasets compared to ensemble methods."
      ],
      "metadata": {
        "id": "ozmyEmzkq7sy"
      }
    },
    {
      "cell_type": "markdown",
      "source": [
        "**13.How does a Decision Tree handle missing values?**"
      ],
      "metadata": {
        "id": "LnnbRnr9rEpO"
      }
    },
    {
      "cell_type": "markdown",
      "source": [
        "Ans: **Handling Missing Values in Decision Trees**  \n",
        "\n",
        "1. **Ignoring Missing Values During Splitting**  \n",
        "   - Decision Trees can **use only available data** to determine the best split without requiring imputation.  \n",
        "\n",
        "2. **Surrogate Splitting**  \n",
        "   - When a feature has missing values, the tree finds an **alternative (surrogate) feature** that gives a similar split.  \n",
        "\n",
        "3. **Mean/Mode Imputation**  \n",
        "   - Missing numerical values can be replaced with the **mean** of the feature.  \n",
        "   - Missing categorical values can be replaced with the **mode** (most frequent category).  \n",
        "\n",
        "4. **Using \"Missing\" as a Separate Category**  \n",
        "   - For categorical features, missing values can be treated as a **separate category** instead of imputing them.  \n",
        "\n",
        "5. **Weighted Splitting**  \n",
        "   - Some algorithms distribute missing values across child nodes **proportionally** based on the available data distribution.  \n",
        "\n",
        "Decision Trees naturally handle missing values better than many other models, reducing the need for complex imputation techniques."
      ],
      "metadata": {
        "id": "6mwrLo4FrJIt"
      }
    },
    {
      "cell_type": "markdown",
      "source": [
        "**14.How does a Decision Tree handle categorical features?**"
      ],
      "metadata": {
        "id": "MyYDg1PysFcw"
      }
    },
    {
      "cell_type": "markdown",
      "source": [
        "Ans:**Handling Categorical Features in Decision Trees**  \n",
        "\n",
        "1. **Label Encoding**  \n",
        "   - Assigns a unique numerical value to each category (e.g., \"Red\" → 0, \"Blue\" → 1, \"Green\" → 2).  \n",
        "   - Works well for **ordinal** categories but may introduce bias in **nominal** categories.  \n",
        "\n",
        "2. **One-Hot Encoding**  \n",
        "   - Creates binary columns for each category (e.g., \"Color_Red\", \"Color_Blue\", \"Color_Green\").  \n",
        "   - Prevents ordering issues but increases feature space.  \n",
        "\n",
        "3. **Decision Tree’s Native Handling**  \n",
        "   - Some implementations (e.g., **CART** for classification) can **directly split on categorical values** without encoding.  \n",
        "   - The algorithm selects the category that provides the best **information gain** or **Gini reduction**.  \n",
        "\n",
        "4. **Grouping Categories**  \n",
        "   - Similar categories may be combined based on domain knowledge or feature importance to reduce complexity.  \n",
        "\n",
        "5. **Frequency/Target Encoding**  \n",
        "   - Replaces categories with their occurrence frequency or mean target value, useful for large categorical variables.  \n",
        "\n",
        "Decision Trees naturally handle categorical data well, especially when using algorithms that support direct categorical splitting."
      ],
      "metadata": {
        "id": "YY9Ge4RWsJ55"
      }
    },
    {
      "cell_type": "markdown",
      "source": [
        "**15.What are some real-world applications of Decision Trees?**"
      ],
      "metadata": {
        "id": "UrPG1i9tsU26"
      }
    },
    {
      "cell_type": "markdown",
      "source": [
        "Ans:**Real-World Applications of Decision Trees**  \n",
        "\n",
        "1. **Healthcare**  \n",
        "   - Diagnosing diseases based on symptoms.  \n",
        "   - Predicting patient risk for specific conditions.  \n",
        "\n",
        "2. **Finance & Banking**  \n",
        "   - Credit scoring and loan approval.  \n",
        "   - Fraud detection in transactions.  \n",
        "\n",
        "3. **Marketing & Sales**  \n",
        "   - Customer segmentation for targeted advertising.  \n",
        "   - Churn prediction to retain customers.  \n",
        "\n",
        "4. **E-commerce & Retail**  \n",
        "   - Product recommendation systems.  \n",
        "   - Inventory management and demand forecasting.  \n",
        "\n",
        "5. **Manufacturing & Quality Control**  \n",
        "   - Defect detection in production lines.  \n",
        "   - Predictive maintenance of machinery.  \n",
        "\n",
        "6. **Human Resources**  \n",
        "   - Resume screening and candidate selection.  \n",
        "   - Employee performance and attrition prediction.  \n",
        "\n",
        "7. **Energy & Utilities**  \n",
        "   - Power consumption forecasting.  \n",
        "   - Fault detection in power grids.  \n",
        "\n",
        "8. **Education**  \n",
        "   - Student performance prediction.  \n",
        "   - Personalized learning recommendations.  \n",
        "\n",
        "Decision Trees are widely used in various industries due to their interpretability and ability to handle complex decision-making tasks."
      ],
      "metadata": {
        "id": "A4ImXJNpsY59"
      }
    },
    {
      "cell_type": "markdown",
      "source": [
        "##**Practical**"
      ],
      "metadata": {
        "id": "x1k4noBVsi_n"
      }
    },
    {
      "cell_type": "markdown",
      "source": [
        "**16.Write a Python program to train a Decision Tree Classifier on the Iris dataset and print the model accuracy.**"
      ],
      "metadata": {
        "id": "MTnDoW1bsnPq"
      }
    },
    {
      "cell_type": "code",
      "source": [
        "from sklearn.datasets import load_iris\n",
        "from sklearn.model_selection import train_test_split\n",
        "from sklearn.tree import DecisionTreeClassifier\n",
        "from sklearn.metrics import accuracy_score\n",
        "\n",
        "# Load the Iris dataset\n",
        "iris = load_iris()\n",
        "X, y = iris.data, iris.target\n",
        "\n",
        "# Split the dataset into training and testing sets (80% train, 20% test)\n",
        "X_train, X_test, y_train, y_test = train_test_split(X, y, test_size=0.2, random_state=42)\n",
        "\n",
        "# Initialize and train the Decision Tree Classifier\n",
        "clf = DecisionTreeClassifier(random_state=42)\n",
        "clf.fit(X_train, y_train)\n",
        "\n",
        "# Make predictions on the test set\n",
        "y_pred = clf.predict(X_test)\n",
        "\n",
        "# Calculate and print model accuracy\n",
        "accuracy = accuracy_score(y_test, y_pred)\n",
        "print(f\"Model Accuracy: {accuracy:.2f}\")\n"
      ],
      "metadata": {
        "colab": {
          "base_uri": "https://localhost:8080/"
        },
        "id": "b7g-Jwrdssp4",
        "outputId": "5eef32c8-d802-4177-87b2-a0f69fcadd40"
      },
      "execution_count": 1,
      "outputs": [
        {
          "output_type": "stream",
          "name": "stdout",
          "text": [
            "Model Accuracy: 1.00\n"
          ]
        }
      ]
    },
    {
      "cell_type": "markdown",
      "source": [
        "**17.Write a Python program to train a Decision Tree Classifier using Gini Impurity as the criterion and print the feature importances.**"
      ],
      "metadata": {
        "id": "W75CCEbis7Yp"
      }
    },
    {
      "cell_type": "code",
      "source": [
        "from sklearn.datasets import load_iris\n",
        "from sklearn.model_selection import train_test_split\n",
        "from sklearn.tree import DecisionTreeClassifier\n",
        "\n",
        "# Load the Iris dataset\n",
        "iris = load_iris()\n",
        "X, y = iris.data, iris.target\n",
        "\n",
        "# Split the dataset into training and testing sets\n",
        "X_train, X_test, y_train, y_test = train_test_split(X, y, test_size=0.2, random_state=42)\n",
        "\n",
        "# Initialize and train the Decision Tree Classifier with Gini Impurity\n",
        "clf = DecisionTreeClassifier(criterion=\"gini\", random_state=42)\n",
        "clf.fit(X_train, y_train)\n",
        "\n",
        "# Print feature importances\n",
        "for feature, importance in zip(iris.feature_names, clf.feature_importances_):\n",
        "    print(f\"{feature}: {importance:.4f}\")\n"
      ],
      "metadata": {
        "colab": {
          "base_uri": "https://localhost:8080/"
        },
        "id": "OyNEFpsWtAZA",
        "outputId": "95d32bac-7691-46f3-fa01-9d182bb5e1c1"
      },
      "execution_count": 2,
      "outputs": [
        {
          "output_type": "stream",
          "name": "stdout",
          "text": [
            "sepal length (cm): 0.0000\n",
            "sepal width (cm): 0.0167\n",
            "petal length (cm): 0.9061\n",
            "petal width (cm): 0.0772\n"
          ]
        }
      ]
    },
    {
      "cell_type": "markdown",
      "source": [
        "**18.Write a Python program to train a Decision Tree Classifier using Entropy as the splitting criterion and print the model accuracy.**"
      ],
      "metadata": {
        "id": "xVN1w1RtwhLH"
      }
    },
    {
      "cell_type": "code",
      "source": [
        "from sklearn.datasets import load_iris\n",
        "from sklearn.model_selection import train_test_split\n",
        "from sklearn.tree import DecisionTreeClassifier\n",
        "from sklearn.metrics import accuracy_score\n",
        "\n",
        "# Load the Iris dataset\n",
        "iris = load_iris()\n",
        "X, y = iris.data, iris.target\n",
        "\n",
        "# Split the dataset into training (80%) and testing (20%) sets\n",
        "X_train, X_test, y_train, y_test = train_test_split(X, y, test_size=0.2, random_state=42)\n",
        "\n",
        "# Initialize and train the Decision Tree Classifier using Entropy\n",
        "clf = DecisionTreeClassifier(criterion=\"entropy\", random_state=42)\n",
        "clf.fit(X_train, y_train)\n",
        "\n",
        "# Make predictions on the test set\n",
        "y_pred = clf.predict(X_test)\n",
        "\n",
        "# Calculate and print model accuracy\n",
        "accuracy = accuracy_score(y_test, y_pred)\n",
        "print(f\"Model Accuracy: {accuracy:.2f}\")\n"
      ],
      "metadata": {
        "colab": {
          "base_uri": "https://localhost:8080/"
        },
        "id": "5Hv24lbiwtt4",
        "outputId": "028f50da-5658-4ffd-c392-bf7817bf9f97"
      },
      "execution_count": 3,
      "outputs": [
        {
          "output_type": "stream",
          "name": "stdout",
          "text": [
            "Model Accuracy: 1.00\n"
          ]
        }
      ]
    },
    {
      "cell_type": "markdown",
      "source": [
        "**19.Write a Python program to train a Decision Tree Regressor on a housing dataset and evaluate using Mean Squared Error (MSE).**"
      ],
      "metadata": {
        "id": "2Mo1BrTdw3sE"
      }
    },
    {
      "cell_type": "code",
      "source": [
        "from sklearn.datasets import fetch_california_housing\n",
        "from sklearn.model_selection import train_test_split\n",
        "from sklearn.tree import DecisionTreeRegressor\n",
        "from sklearn.metrics import mean_squared_error\n",
        "\n",
        "# Load the California housing dataset\n",
        "housing = fetch_california_housing()\n",
        "X, y = housing.data, housing.target\n",
        "\n",
        "# Split the dataset into training (80%) and testing (20%) sets\n",
        "X_train, X_test, y_train, y_test = train_test_split(X, y, test_size=0.2, random_state=42)\n",
        "\n",
        "# Initialize and train the Decision Tree Regressor\n",
        "regressor = DecisionTreeRegressor(random_state=42)\n",
        "regressor.fit(X_train, y_train)\n",
        "\n",
        "# Make predictions on the test set\n",
        "y_pred = regressor.predict(X_test)\n",
        "\n",
        "# Calculate and print Mean Squared Error (MSE)\n",
        "mse = mean_squared_error(y_test, y_pred)\n",
        "print(f\"Mean Squared Error: {mse:.4f}\")\n"
      ],
      "metadata": {
        "colab": {
          "base_uri": "https://localhost:8080/"
        },
        "id": "pFXlzfv4xAqS",
        "outputId": "158c8409-9bde-4013-c13c-9ee610148716"
      },
      "execution_count": 4,
      "outputs": [
        {
          "output_type": "stream",
          "name": "stdout",
          "text": [
            "Mean Squared Error: 0.4952\n"
          ]
        }
      ]
    },
    {
      "cell_type": "markdown",
      "source": [
        "20.Write a Python program to train a Decision Tree Classifier and visualize the tree using graphviz."
      ],
      "metadata": {
        "id": "yCzmQWTRzzfC"
      }
    },
    {
      "cell_type": "code",
      "source": [
        "!apt-get install -y graphviz\n",
        "!pip install graphviz\n"
      ],
      "metadata": {
        "colab": {
          "base_uri": "https://localhost:8080/"
        },
        "id": "rWTa23nO0FWr",
        "outputId": "07c6e90c-e83c-498f-9c93-2a7258eabd14"
      },
      "execution_count": 5,
      "outputs": [
        {
          "output_type": "stream",
          "name": "stdout",
          "text": [
            "Reading package lists... Done\n",
            "Building dependency tree... Done\n",
            "Reading state information... Done\n",
            "graphviz is already the newest version (2.42.2-6ubuntu0.1).\n",
            "0 upgraded, 0 newly installed, 0 to remove and 29 not upgraded.\n",
            "Requirement already satisfied: graphviz in /usr/local/lib/python3.11/dist-packages (0.20.3)\n"
          ]
        }
      ]
    },
    {
      "cell_type": "code",
      "source": [
        "from sklearn.datasets import load_iris\n",
        "from sklearn.model_selection import train_test_split\n",
        "from sklearn.tree import DecisionTreeClassifier, export_graphviz\n",
        "import graphviz\n",
        "\n",
        "# Load the Iris dataset\n",
        "iris = load_iris()\n",
        "X, y = iris.data, iris.target\n",
        "\n",
        "# Split the dataset into training (80%) and testing (20%) sets\n",
        "X_train, X_test, y_train, y_test = train_test_split(X, y, test_size=0.2, random_state=42)\n",
        "\n",
        "# Initialize and train the Decision Tree Classifier\n",
        "clf = DecisionTreeClassifier(random_state=42)\n",
        "clf.fit(X_train, y_train)\n",
        "\n",
        "# Visualize the Decision Tree using Graphviz\n",
        "dot_data = export_graphviz(clf, out_file=None,\n",
        "                           feature_names=iris.feature_names,\n",
        "                           class_names=iris.target_names,\n",
        "                           filled=True, rounded=True, special_characters=True)\n",
        "\n",
        "# Render the tree\n",
        "graph = graphviz.Source(dot_data)\n",
        "graph.view()  # This will open the visualization in a file viewer\n"
      ],
      "metadata": {
        "colab": {
          "base_uri": "https://localhost:8080/",
          "height": 36
        },
        "id": "Bms1bIBQ0L2n",
        "outputId": "dcb26b6a-82e7-4d86-de6c-46c824b51f15"
      },
      "execution_count": 6,
      "outputs": [
        {
          "output_type": "execute_result",
          "data": {
            "text/plain": [
              "'Source.gv.pdf'"
            ],
            "application/vnd.google.colaboratory.intrinsic+json": {
              "type": "string"
            }
          },
          "metadata": {},
          "execution_count": 6
        }
      ]
    },
    {
      "cell_type": "code",
      "source": [
        "!apt-get install -y graphviz\n",
        "!pip install graphviz\n"
      ],
      "metadata": {
        "colab": {
          "base_uri": "https://localhost:8080/"
        },
        "id": "snQmkV8a0F-f",
        "outputId": "d78d12b5-844a-4191-da37-26fcb838673e"
      },
      "execution_count": 7,
      "outputs": [
        {
          "output_type": "stream",
          "name": "stdout",
          "text": [
            "Reading package lists... Done\n",
            "Building dependency tree... Done\n",
            "Reading state information... Done\n",
            "graphviz is already the newest version (2.42.2-6ubuntu0.1).\n",
            "0 upgraded, 0 newly installed, 0 to remove and 29 not upgraded.\n",
            "Requirement already satisfied: graphviz in /usr/local/lib/python3.11/dist-packages (0.20.3)\n"
          ]
        }
      ]
    },
    {
      "cell_type": "markdown",
      "source": [
        "**21. Write a Python program to train a Decision Tree Classifier with a maximum depth of 3 and compare its accuracy with a fully grown tree.**"
      ],
      "metadata": {
        "id": "wd8J18CF0cM4"
      }
    },
    {
      "cell_type": "code",
      "source": [
        "from sklearn.datasets import load_iris\n",
        "from sklearn.model_selection import train_test_split\n",
        "from sklearn.tree import DecisionTreeClassifier\n",
        "from sklearn.metrics import accuracy_score\n",
        "\n",
        "# Load the Iris dataset\n",
        "iris = load_iris()\n",
        "X, y = iris.data, iris.target\n",
        "\n",
        "# Split the dataset into training (80%) and testing (20%) sets\n",
        "X_train, X_test, y_train, y_test = train_test_split(X, y, test_size=0.2, random_state=42)\n",
        "\n",
        "# Train a Decision Tree with max depth of 3\n",
        "clf_limited = DecisionTreeClassifier(max_depth=3, random_state=42)\n",
        "clf_limited.fit(X_train, y_train)\n",
        "\n",
        "# Train a fully grown Decision Tree\n",
        "clf_full = DecisionTreeClassifier(random_state=42)  # No max_depth limit\n",
        "clf_full.fit(X_train, y_train)\n",
        "\n",
        "# Make predictions\n",
        "y_pred_limited = clf_limited.predict(X_test)\n",
        "y_pred_full = clf_full.predict(X_test)\n",
        "\n",
        "# Calculate and print accuracy for both models\n",
        "accuracy_limited = accuracy_score(y_test, y_pred_limited)\n",
        "accuracy_full = accuracy_score(y_test, y_pred_full)\n",
        "\n",
        "print(f\"Accuracy with max depth 3: {accuracy_limited:.2f}\")\n",
        "print(f\"Accuracy with fully grown tree: {accuracy_full:.2f}\")\n"
      ],
      "metadata": {
        "colab": {
          "base_uri": "https://localhost:8080/"
        },
        "id": "_p3PVWMC0X-u",
        "outputId": "651e4d6e-13ec-49eb-b445-f27c9b0ea667"
      },
      "execution_count": 8,
      "outputs": [
        {
          "output_type": "stream",
          "name": "stdout",
          "text": [
            "Accuracy with max depth 3: 1.00\n",
            "Accuracy with fully grown tree: 1.00\n"
          ]
        }
      ]
    },
    {
      "cell_type": "markdown",
      "source": [
        "**22.Write a Python program to train a Decision Tree Classifier using min_samples_split=5 and compare its accuracy with a default tree.**"
      ],
      "metadata": {
        "id": "TEuYnqhV0t7q"
      }
    },
    {
      "cell_type": "code",
      "source": [
        "from sklearn.datasets import load_iris\n",
        "from sklearn.model_selection import train_test_split\n",
        "from sklearn.tree import DecisionTreeClassifier\n",
        "from sklearn.metrics import accuracy_score\n",
        "\n",
        "# Load the Iris dataset\n",
        "iris = load_iris()\n",
        "X, y = iris.data, iris.target\n",
        "\n",
        "# Split the dataset into training (80%) and testing (20%) sets\n",
        "X_train, X_test, y_train, y_test = train_test_split(X, y, test_size=0.2, random_state=42)\n",
        "\n",
        "# Train a Decision Tree with min_samples_split=5\n",
        "clf_limited = DecisionTreeClassifier(min_samples_split=5, random_state=42)\n",
        "clf_limited.fit(X_train, y_train)\n",
        "\n",
        "# Train a default Decision Tree\n",
        "clf_default = DecisionTreeClassifier(random_state=42)  # Uses default settings\n",
        "clf_default.fit(X_train, y_train)\n",
        "\n",
        "# Make predictions\n",
        "y_pred_limited = clf_limited.predict(X_test)\n",
        "y_pred_default = clf_default.predict(X_test)\n",
        "\n",
        "# Calculate and print accuracy for both models\n",
        "accuracy_limited = accuracy_score(y_test, y_pred_limited)\n",
        "accuracy_default = accuracy_score(y_test, y_pred_default)\n",
        "\n",
        "print(f\"Accuracy with min_samples_split=5: {accuracy_limited:.2f}\")\n",
        "print(f\"Accuracy with default tree: {accuracy_default:.2f}\")\n"
      ],
      "metadata": {
        "colab": {
          "base_uri": "https://localhost:8080/"
        },
        "id": "P_xz8_a00zQa",
        "outputId": "33ed2656-edf0-49e3-84b1-8b4dd4cb0007"
      },
      "execution_count": 9,
      "outputs": [
        {
          "output_type": "stream",
          "name": "stdout",
          "text": [
            "Accuracy with min_samples_split=5: 1.00\n",
            "Accuracy with default tree: 1.00\n"
          ]
        }
      ]
    },
    {
      "cell_type": "markdown",
      "source": [
        "**23.Write a Python program to apply feature scaling before training a Decision Tree Classifier and compare its accuracy with unscaled data.**"
      ],
      "metadata": {
        "id": "OkDVZaWs1Lx4"
      }
    },
    {
      "cell_type": "code",
      "source": [
        "from sklearn.datasets import load_iris\n",
        "from sklearn.model_selection import train_test_split\n",
        "from sklearn.tree import DecisionTreeClassifier\n",
        "from sklearn.preprocessing import StandardScaler\n",
        "from sklearn.metrics import accuracy_score\n",
        "\n",
        "# Load the Iris dataset\n",
        "iris = load_iris()\n",
        "X, y = iris.data, iris.target\n",
        "\n",
        "# Split the dataset into training (80%) and testing (20%) sets\n",
        "X_train, X_test, y_train, y_test = train_test_split(X, y, test_size=0.2, random_state=42)\n",
        "\n",
        "# Train Decision Tree Classifier without feature scaling\n",
        "clf_unscaled = DecisionTreeClassifier(random_state=42)\n",
        "clf_unscaled.fit(X_train, y_train)\n",
        "y_pred_unscaled = clf_unscaled.predict(X_test)\n",
        "accuracy_unscaled = accuracy_score(y_test, y_pred_unscaled)\n",
        "\n",
        "# Apply feature scaling (Standardization)\n",
        "scaler = StandardScaler()\n",
        "X_train_scaled = scaler.fit_transform(X_train)\n",
        "X_test_scaled = scaler.transform(X_test)\n",
        "\n",
        "# Train Decision Tree Classifier with scaled data\n",
        "clf_scaled = DecisionTreeClassifier(random_state=42)\n",
        "clf_scaled.fit(X_train_scaled, y_train)\n",
        "y_pred_scaled = clf_scaled.predict(X_test_scaled)\n",
        "accuracy_scaled = accuracy_score(y_test, y_pred_scaled)\n",
        "\n",
        "# Print accuracies\n",
        "print(f\"Accuracy without feature scaling: {accuracy_unscaled:.2f}\")\n",
        "print(f\"Accuracy with feature scaling: {accuracy_scaled:.2f}\")\n"
      ],
      "metadata": {
        "colab": {
          "base_uri": "https://localhost:8080/"
        },
        "id": "Jb1F0IiO1Pex",
        "outputId": "fc053705-51dd-4e7e-9242-abd2ac6857db"
      },
      "execution_count": 11,
      "outputs": [
        {
          "output_type": "stream",
          "name": "stdout",
          "text": [
            "Accuracy without feature scaling: 1.00\n",
            "Accuracy with feature scaling: 1.00\n"
          ]
        }
      ]
    },
    {
      "cell_type": "markdown",
      "source": [
        "**24.Write a Python program to train a Decision Tree Classifier using One-vs-Rest (OvR) strategy for multiclass classification.**"
      ],
      "metadata": {
        "id": "UexBlSqn1X04"
      }
    },
    {
      "cell_type": "code",
      "source": [
        "from sklearn.datasets import load_iris\n",
        "from sklearn.model_selection import train_test_split\n",
        "from sklearn.tree import DecisionTreeClassifier\n",
        "from sklearn.multiclass import OneVsRestClassifier\n",
        "from sklearn.metrics import accuracy_score\n",
        "\n",
        "# Load the Iris dataset\n",
        "iris = load_iris()\n",
        "X, y = iris.data, iris.target\n",
        "\n",
        "# Split the dataset into training (80%) and testing (20%) sets\n",
        "X_train, X_test, y_train, y_test = train_test_split(X, y, test_size=0.2, random_state=42)\n",
        "\n",
        "# Train Decision Tree Classifier using One-vs-Rest (OvR)\n",
        "clf_ovr = OneVsRestClassifier(DecisionTreeClassifier(random_state=42))\n",
        "clf_ovr.fit(X_train, y_train)\n",
        "\n",
        "# Make predictions\n",
        "y_pred = clf_ovr.predict(X_test)\n",
        "\n",
        "# Calculate and print accuracy\n",
        "accuracy = accuracy_score(y_test, y_pred)\n",
        "print(f\"Model Accuracy using OvR: {accuracy:.2f}\")\n"
      ],
      "metadata": {
        "colab": {
          "base_uri": "https://localhost:8080/"
        },
        "id": "_l3uIy1S1b_f",
        "outputId": "0728d0f9-3f51-4873-b293-fff045edd07e"
      },
      "execution_count": 12,
      "outputs": [
        {
          "output_type": "stream",
          "name": "stdout",
          "text": [
            "Model Accuracy using OvR: 1.00\n"
          ]
        }
      ]
    },
    {
      "cell_type": "markdown",
      "source": [
        "**25.Write a Python program to train a Decision Tree Classifier and display the feature importance scores.**"
      ],
      "metadata": {
        "id": "Slf01uKq1feB"
      }
    },
    {
      "cell_type": "code",
      "source": [
        "from sklearn.datasets import load_iris\n",
        "from sklearn.model_selection import train_test_split\n",
        "from sklearn.tree import DecisionTreeClassifier\n",
        "import pandas as pd\n",
        "\n",
        "# Load the Iris dataset\n",
        "iris = load_iris()\n",
        "X, y = iris.data, iris.target\n",
        "feature_names = iris.feature_names\n",
        "\n",
        "# Split the dataset into training (80%) and testing (20%) sets\n",
        "X_train, X_test, y_train, y_test = train_test_split(X, y, test_size=0.2, random_state=42)\n",
        "\n",
        "# Train the Decision Tree Classifier\n",
        "clf = DecisionTreeClassifier(random_state=42)\n",
        "clf.fit(X_train, y_train)\n",
        "\n",
        "# Get feature importance scores\n",
        "feature_importance = pd.DataFrame({'Feature': feature_names, 'Importance': clf.feature_importances_})\n",
        "feature_importance = feature_importance.sort_values(by='Importance', ascending=False)\n",
        "\n",
        "# Print feature importance scores\n",
        "print(\"Feature Importance Scores:\")\n",
        "print(feature_importance)\n"
      ],
      "metadata": {
        "colab": {
          "base_uri": "https://localhost:8080/"
        },
        "id": "4vYzY1py1p6A",
        "outputId": "f4e84b4f-0c6c-4c5d-bbe2-9ac51ccf8026"
      },
      "execution_count": 13,
      "outputs": [
        {
          "output_type": "stream",
          "name": "stdout",
          "text": [
            "Feature Importance Scores:\n",
            "             Feature  Importance\n",
            "2  petal length (cm)    0.906143\n",
            "3   petal width (cm)    0.077186\n",
            "1   sepal width (cm)    0.016670\n",
            "0  sepal length (cm)    0.000000\n"
          ]
        }
      ]
    },
    {
      "cell_type": "markdown",
      "source": [
        "**26. Write a Python program to train a Decision Tree Regressor with max_depth=5 and compare its performance with an unrestricted tree.**"
      ],
      "metadata": {
        "id": "ULXj8zBh1qbf"
      }
    },
    {
      "cell_type": "code",
      "source": [
        "from sklearn.datasets import fetch_california_housing\n",
        "from sklearn.model_selection import train_test_split\n",
        "from sklearn.tree import DecisionTreeRegressor\n",
        "from sklearn.metrics import mean_squared_error\n",
        "\n",
        "# Load the California housing dataset\n",
        "data = fetch_california_housing()\n",
        "X, y = data.data, data.target\n",
        "\n",
        "# Split the dataset into training (80%) and testing (20%) sets\n",
        "X_train, X_test, y_train, y_test = train_test_split(X, y, test_size=0.2, random_state=42)\n",
        "\n",
        "# Train a Decision Tree Regressor with max_depth=5\n",
        "reg_limited = DecisionTreeRegressor(max_depth=5, random_state=42)\n",
        "reg_limited.fit(X_train, y_train)\n",
        "\n",
        "# Train a fully grown Decision Tree Regressor\n",
        "reg_full = DecisionTreeRegressor(random_state=42)  # No max_depth limit\n",
        "reg_full.fit(X_train, y_train)\n",
        "\n",
        "# Make predictions\n",
        "y_pred_limited = reg_limited.predict(X_test)\n",
        "y_pred_full = reg_full.predict(X_test)\n",
        "\n",
        "# Calculate and print MSE for both models\n",
        "mse_limited = mean_squared_error(y_test, y_pred_limited)\n",
        "mse_full = mean_squared_error(y_test, y_pred_full)\n",
        "\n",
        "print(f\"Mean Squared Error with max_depth=5: {mse_limited:.4f}\")\n",
        "print(f\"Mean Squared Error with fully grown tree: {mse_full:.4f}\")\n"
      ],
      "metadata": {
        "colab": {
          "base_uri": "https://localhost:8080/"
        },
        "id": "lMaWsl-A1u9b",
        "outputId": "dfc23018-c974-4e2b-d922-16afb9b29264"
      },
      "execution_count": 14,
      "outputs": [
        {
          "output_type": "stream",
          "name": "stdout",
          "text": [
            "Mean Squared Error with max_depth=5: 0.5245\n",
            "Mean Squared Error with fully grown tree: 0.4952\n"
          ]
        }
      ]
    },
    {
      "cell_type": "markdown",
      "source": [
        "**27.Write a Python program to train a Decision Tree Classifier, apply Cost Complexity Pruning (CCP), and visualize its effect on accuracy.**"
      ],
      "metadata": {
        "id": "lz1RRcZY15xS"
      }
    },
    {
      "cell_type": "code",
      "source": [
        "import numpy as np\n",
        "import matplotlib.pyplot as plt\n",
        "from sklearn.datasets import load_iris\n",
        "from sklearn.model_selection import train_test_split\n",
        "from sklearn.tree import DecisionTreeClassifier\n",
        "from sklearn.metrics import accuracy_score\n",
        "\n",
        "# Load the Iris dataset\n",
        "iris = load_iris()\n",
        "X, y = iris.data, iris.target\n",
        "\n",
        "# Split the dataset into training (80%) and testing (20%) sets\n",
        "X_train, X_test, y_train, y_test = train_test_split(X, y, test_size=0.2, random_state=42)\n",
        "\n",
        "# Train an initial Decision Tree to determine cost complexity pruning path\n",
        "clf = DecisionTreeClassifier(random_state=42)\n",
        "clf.fit(X_train, y_train)\n",
        "\n",
        "# Get effective alphas for pruning\n",
        "path = clf.cost_complexity_pruning_path(X_train, y_train)\n",
        "ccp_alphas = path.ccp_alphas  # List of alpha values\n",
        "\n",
        "# Train trees for different alpha values and record accuracy\n",
        "train_acc = []\n",
        "test_acc = []\n",
        "\n",
        "for alpha in ccp_alphas:\n",
        "    pruned_clf = DecisionTreeClassifier(random_state=42, ccp_alpha=alpha)\n",
        "    pruned_clf.fit(X_train, y_train)\n",
        "\n",
        "    # Compute accuracy on training and test sets\n",
        "    train_acc.append(accuracy_score(y_train, pruned_clf.predict(X_train)))\n",
        "    test_acc.append(accuracy_score(y_test, pruned_clf.predict(X_test)))\n",
        "\n",
        "# Plot accuracy vs. alpha\n",
        "plt.figure(figsize=(8, 5))\n",
        "plt.plot(ccp_alphas, train_acc, marker='o', label=\"Training Accuracy\")\n",
        "plt.plot(ccp_alphas, test_acc, marker='o', label=\"Testing Accuracy\")\n",
        "plt.xlabel(\"CCP Alpha\")\n",
        "plt.ylabel(\"Accuracy\")\n",
        "plt.title(\"Effect of Cost Complexity Pruning on Accuracy\")\n",
        "plt.legend()\n",
        "plt.show()\n"
      ],
      "metadata": {
        "colab": {
          "base_uri": "https://localhost:8080/",
          "height": 487
        },
        "id": "WjkzdazE197d",
        "outputId": "1d2a7ae7-ac1f-49c7-9aad-63b85a43192f"
      },
      "execution_count": 15,
      "outputs": [
        {
          "output_type": "display_data",
          "data": {
            "text/plain": [
              "<Figure size 800x500 with 1 Axes>"
            ],
            "image/png": "[encoded data removed]"
          },
          "metadata": {}
        }
      ]
    },
    {
      "cell_type": "markdown",
      "source": [
        "**28.Write a Python program to train a Decision Tree Classifier and evaluate its performance using Precision, Recall, and F1-Score.**"
      ],
      "metadata": {
        "id": "kWYDJaCy2G5z"
      }
    },
    {
      "cell_type": "code",
      "source": [
        "from sklearn.datasets import load_iris\n",
        "from sklearn.model_selection import train_test_split\n",
        "from sklearn.tree import DecisionTreeClassifier\n",
        "from sklearn.metrics import classification_report\n",
        "\n",
        "# Load the Iris dataset\n",
        "iris = load_iris()\n",
        "X, y = iris.data, iris.target\n",
        "\n",
        "# Split the dataset into training (80%) and testing (20%) sets\n",
        "X_train, X_test, y_train, y_test = train_test_split(X, y, test_size=0.2, random_state=42)\n",
        "\n",
        "# Train a Decision Tree Classifier\n",
        "clf = DecisionTreeClassifier(random_state=42)\n",
        "clf.fit(X_train, y_train)\n",
        "\n",
        "# Make predictions\n",
        "y_pred = clf.predict(X_test)\n",
        "\n",
        "# Evaluate using Precision, Recall, and F1-Score\n",
        "report = classification_report(y_test, y_pred, target_names=iris.target_names)\n",
        "\n",
        "# Print the evaluation report\n",
        "print(\"Classification Report:\")\n",
        "print(report)\n"
      ],
      "metadata": {
        "colab": {
          "base_uri": "https://localhost:8080/"
        },
        "id": "3NWLa5oK2lVa",
        "outputId": "eb06dba4-c2fd-46af-e358-c2a853241a7e"
      },
      "execution_count": 16,
      "outputs": [
        {
          "output_type": "stream",
          "name": "stdout",
          "text": [
            "Classification Report:\n",
            "              precision    recall  f1-score   support\n",
            "\n",
            "      setosa       1.00      1.00      1.00        10\n",
            "  versicolor       1.00      1.00      1.00         9\n",
            "   virginica       1.00      1.00      1.00        11\n",
            "\n",
            "    accuracy                           1.00        30\n",
            "   macro avg       1.00      1.00      1.00        30\n",
            "weighted avg       1.00      1.00      1.00        30\n",
            "\n"
          ]
        }
      ]
    },
    {
      "cell_type": "markdown",
      "source": [
        "**29.Write a Python program to train a Decision Tree Classifier and visualize the confusion matrix using seaborn.**"
      ],
      "metadata": {
        "id": "LH0et4K_2fco"
      }
    },
    {
      "cell_type": "code",
      "source": [
        "import seaborn as sns\n",
        "import matplotlib.pyplot as plt\n",
        "from sklearn.datasets import load_iris\n",
        "from sklearn.model_selection import train_test_split\n",
        "from sklearn.tree import DecisionTreeClassifier\n",
        "from sklearn.metrics import confusion_matrix\n",
        "\n",
        "# Load the Iris dataset\n",
        "iris = load_iris()\n",
        "X, y = iris.data, iris.target\n",
        "\n",
        "# Split the dataset into training (80%) and testing (20%) sets\n",
        "X_train, X_test, y_train, y_test = train_test_split(X, y, test_size=0.2, random_state=42)\n",
        "\n",
        "# Train a Decision Tree Classifier\n",
        "clf = DecisionTreeClassifier(random_state=42)\n",
        "clf.fit(X_train, y_train)\n",
        "\n",
        "# Make predictions\n",
        "y_pred = clf.predict(X_test)\n",
        "\n",
        "# Compute the confusion matrix\n",
        "cm = confusion_matrix(y_test, y_pred)\n",
        "\n",
        "# Plot the confusion matrix\n",
        "plt.figure(figsize=(6, 4))\n",
        "sns.heatmap(cm, annot=True, fmt='d', cmap='Blues', xticklabels=iris.target_names, yticklabels=iris.target_names)\n",
        "plt.xlabel(\"Predicted Label\")\n",
        "plt.ylabel(\"True Label\")\n",
        "plt.title(\"Confusion Matrix\")\n",
        "plt.show()\n"
      ],
      "metadata": {
        "colab": {
          "base_uri": "https://localhost:8080/",
          "height": 410
        },
        "id": "AlL4dmAb2jLF",
        "outputId": "0a08e0b4-576c-4331-d7ff-cf2aee078c86"
      },
      "execution_count": 17,
      "outputs": [
        {
          "output_type": "display_data",
          "data": {
            "text/plain": [
              "<Figure size 600x400 with 2 Axes>"
            ],
            "image/png": "[encoded data removed]"
          },
          "metadata": {}
        }
      ]
    },
    {
      "cell_type": "markdown",
      "source": [
        "**30.Write a Python program to train a Decision Tree Classifier and use GridSearchCV to find the optimal values for max_depth and min_samples_split.**"
      ],
      "metadata": {
        "id": "JG_0T5Zz2vND"
      }
    },
    {
      "cell_type": "code",
      "source": [
        "from sklearn.datasets import load_iris\n",
        "from sklearn.model_selection import train_test_split, GridSearchCV\n",
        "from sklearn.tree import DecisionTreeClassifier\n",
        "from sklearn.metrics import accuracy_score\n",
        "\n",
        "# Load the Iris dataset\n",
        "iris = load_iris()\n",
        "X, y = iris.data, iris.target\n",
        "\n",
        "# Split the dataset into training (80%) and testing (20%) sets\n",
        "X_train, X_test, y_train, y_test = train_test_split(X, y, test_size=0.2, random_state=42)\n",
        "\n",
        "# Define the Decision Tree model\n",
        "clf = DecisionTreeClassifier(random_state=42)\n",
        "\n",
        "# Define the hyperparameter grid\n",
        "param_grid = {\n",
        "    \"max_depth\": [3, 5, 10, None],\n",
        "    \"min_samples_split\": [2, 5, 10]\n",
        "}\n",
        "\n",
        "# Perform Grid Search with 5-fold cross-validation\n",
        "grid_search = GridSearchCV(clf, param_grid, cv=5, scoring=\"accuracy\", n_jobs=-1)\n",
        "grid_search.fit(X_train, y_train)\n",
        "\n",
        "# Get the best model and its parameters\n",
        "best_model = grid_search.best_estimator_\n",
        "best_params = grid_search.best_params_\n",
        "\n",
        "# Make predictions on the test set\n",
        "y_pred = best_model.predict(X_test)\n",
        "\n",
        "# Evaluate the accuracy of the best model\n",
        "accuracy = accuracy_score(y_test, y_pred)\n",
        "\n",
        "# Print the results\n",
        "print(f\"Best Parameters: {best_params}\")\n",
        "print(f\"Test Set Accuracy: {accuracy:.4f}\")\n"
      ],
      "metadata": {
        "colab": {
          "base_uri": "https://localhost:8080/"
        },
        "id": "YS-Zkj7z2ybX",
        "outputId": "712ac511-05b3-4ec3-ded8-82c212bc8d0a"
      },
      "execution_count": 18,
      "outputs": [
        {
          "output_type": "stream",
          "name": "stdout",
          "text": [
            "Best Parameters: {'max_depth': 10, 'min_samples_split': 2}\n",
            "Test Set Accuracy: 1.0000\n"
          ]
        }
      ]
    }
  ]
}